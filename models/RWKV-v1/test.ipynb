{
 "cells": [
  {
   "cell_type": "code",
   "execution_count": 19,
   "metadata": {},
   "outputs": [],
   "source": [
    "import torch\n",
    "import torch.nn as nn\n",
    "import torch.nn.functional as F\n",
    "import torch.optim as optim\n",
    "import torchvision\n",
    "import torchvision.transforms as transforms\n",
    "import numpy as np"
   ]
  },
  {
   "cell_type": "code",
   "execution_count": 20,
   "metadata": {},
   "outputs": [],
   "source": [
    "P = 2\n",
    "N = 2"
   ]
  },
  {
   "cell_type": "code",
   "execution_count": 21,
   "metadata": {},
   "outputs": [],
   "source": [
    "x = torch.randint(0,10,(2, 3,8,8))"
   ]
  },
  {
   "cell_type": "code",
   "execution_count": 22,
   "metadata": {},
   "outputs": [
    {
     "name": "stdout",
     "output_type": "stream",
     "text": [
      "tensor([[[[9, 2, 8, 9, 6, 3, 6, 6],\n",
      "          [8, 9, 0, 1, 4, 8, 2, 1],\n",
      "          [9, 0, 4, 1, 5, 1, 0, 6],\n",
      "          [6, 4, 7, 2, 8, 7, 4, 3],\n",
      "          [8, 3, 9, 7, 6, 2, 6, 3],\n",
      "          [1, 9, 3, 0, 8, 6, 3, 0],\n",
      "          [4, 2, 1, 2, 4, 2, 5, 2],\n",
      "          [4, 5, 8, 9, 0, 7, 3, 9]],\n",
      "\n",
      "         [[5, 4, 2, 9, 8, 1, 5, 4],\n",
      "          [1, 6, 2, 8, 0, 8, 4, 0],\n",
      "          [8, 4, 0, 4, 7, 2, 4, 9],\n",
      "          [5, 2, 2, 9, 2, 6, 2, 4],\n",
      "          [7, 2, 7, 6, 5, 3, 5, 6],\n",
      "          [3, 6, 1, 4, 3, 0, 2, 0],\n",
      "          [1, 6, 3, 2, 9, 2, 9, 6],\n",
      "          [7, 6, 7, 9, 4, 7, 8, 4]],\n",
      "\n",
      "         [[9, 0, 6, 4, 7, 1, 1, 2],\n",
      "          [5, 4, 2, 2, 1, 5, 5, 7],\n",
      "          [1, 9, 9, 0, 8, 9, 6, 8],\n",
      "          [7, 0, 3, 6, 3, 9, 3, 6],\n",
      "          [1, 1, 4, 6, 8, 7, 8, 2],\n",
      "          [2, 1, 3, 9, 0, 6, 6, 9],\n",
      "          [5, 9, 1, 5, 4, 4, 1, 6],\n",
      "          [0, 7, 8, 8, 4, 5, 7, 4]]],\n",
      "\n",
      "\n",
      "        [[[2, 3, 2, 3, 3, 1, 8, 1],\n",
      "          [7, 9, 9, 6, 6, 3, 2, 9],\n",
      "          [5, 2, 3, 4, 8, 0, 5, 8],\n",
      "          [0, 6, 1, 8, 0, 5, 3, 1],\n",
      "          [7, 8, 9, 2, 5, 6, 8, 2],\n",
      "          [8, 7, 0, 7, 4, 7, 2, 4],\n",
      "          [3, 4, 2, 9, 7, 3, 6, 1],\n",
      "          [2, 2, 8, 6, 0, 5, 4, 7]],\n",
      "\n",
      "         [[1, 1, 1, 9, 4, 4, 9, 5],\n",
      "          [7, 1, 8, 5, 5, 5, 0, 5],\n",
      "          [7, 8, 8, 9, 4, 0, 5, 9],\n",
      "          [1, 5, 6, 2, 3, 6, 2, 1],\n",
      "          [2, 1, 9, 2, 5, 7, 6, 8],\n",
      "          [0, 9, 3, 4, 2, 1, 3, 1],\n",
      "          [7, 7, 6, 0, 4, 0, 5, 5],\n",
      "          [1, 2, 1, 5, 1, 1, 1, 2]],\n",
      "\n",
      "         [[3, 2, 4, 1, 5, 0, 6, 3],\n",
      "          [3, 3, 6, 7, 3, 0, 6, 6],\n",
      "          [7, 1, 5, 8, 6, 3, 8, 6],\n",
      "          [2, 5, 9, 1, 8, 1, 1, 8],\n",
      "          [6, 3, 6, 1, 9, 8, 4, 4],\n",
      "          [8, 3, 4, 7, 7, 9, 0, 1],\n",
      "          [4, 0, 4, 7, 2, 5, 4, 0],\n",
      "          [1, 1, 1, 6, 9, 2, 5, 9]]]])\n"
     ]
    }
   ],
   "source": [
    "print(x)"
   ]
  },
  {
   "cell_type": "code",
   "execution_count": 25,
   "metadata": {},
   "outputs": [
    {
     "name": "stdout",
     "output_type": "stream",
     "text": [
      "torch.Size([2, 4, 48])\n"
     ]
    }
   ],
   "source": [
    "\n",
    "x = x.view(N,3,P*P,-1)\n",
    "x = x.view(N,P*P,-1)\n",
    "print(x.shape)"
   ]
  },
  {
   "cell_type": "code",
   "execution_count": 37,
   "metadata": {},
   "outputs": [
    {
     "data": {
      "image/png": "[encoded data removed]",
      "text/plain": [
       "<Figure size 640x480 with 1 Axes>"
      ]
     },
     "metadata": {},
     "output_type": "display_data"
    },
    {
     "name": "stdout",
     "output_type": "stream",
     "text": [
      "torch.Size([2, 16, 12])\n"
     ]
    }
   ],
   "source": [
    "#generate a picture as torch tensor\n",
    "x = torch.randint(0,10,(2, 3,8,8))\n",
    "#visualize the picture in colors with matplot\n",
    "import matplotlib.pyplot as plt\n",
    "# rescale the values\n",
    "x = x/10\n",
    "plt.imshow(x[0].permute(1,2,0))\n",
    "plt.show()\n",
    "y = image_to_patches(x,2)\n",
    "y = y.flatten(2)\n",
    "print(y.shape)\n",
    "\n"
   ]
  },
  {
   "cell_type": "code",
   "execution_count": null,
   "metadata": {},
   "outputs": [],
   "source": []
  },
  {
   "cell_type": "code",
   "execution_count": 30,
   "metadata": {},
   "outputs": [],
   "source": [
    "def image_to_patches(input_image, patch_size):\n",
    "    N, C, H, W = input_image.shape\n",
    "    P = patch_size\n",
    "    assert H % P == 0 and W % P == 0, \"Image dimensions should be divisible by patch size.\"\n",
    "\n",
    "    patches = input_image.unfold(2, P, P).unfold(3, P, P)\n",
    "    patches = patches.contiguous().view(N, C, -1, P, P)\n",
    "    patches = patches.permute(0, 2, 1, 3, 4).contiguous()\n",
    "\n",
    "    return patches"
   ]
  }
 ],
 "metadata": {
  "kernelspec": {
   "display_name": "CV",
   "language": "python",
   "name": "python3"
  },
  "language_info": {
   "codemirror_mode": {
    "name": "ipython",
    "version": 3
   },
   "file_extension": ".py",
   "mimetype": "text/x-python",
   "name": "python",
   "nbconvert_exporter": "python",
   "pygments_lexer": "ipython3",
   "version": "3.8.17"
  }
 },
 "nbformat": 4,
 "nbformat_minor": 2
}
